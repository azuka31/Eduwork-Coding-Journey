{
 "cells": [
  {
   "cell_type": "markdown",
   "metadata": {},
   "source": [
    "#MASTERING PANDAS DAY 5"
   ]
  },
  {
   "cell_type": "code",
   "execution_count": 1,
   "metadata": {},
   "outputs": [],
   "source": [
    "import pandas as pd\n",
    "import seaborn as sns\n",
    "import numpy as np"
   ]
  },
  {
   "cell_type": "code",
   "execution_count": 2,
   "metadata": {},
   "outputs": [],
   "source": [
    "health_data = pd.read_csv('C:\\\\Users\\\\Bayu\\\\anaconda3\\\\Lib\\\\site-packages\\\\pandas\\\\io\\\\parsers\\\\healtcare_stroke_data.csv' , sep=',')"
   ]
  },
  {
   "cell_type": "code",
   "execution_count": 4,
   "metadata": {},
   "outputs": [
    {
     "name": "stdout",
     "output_type": "stream",
     "text": [
      "      id  gender   age  hypertension  heart_disease ever_married  \\\n",
      "0   9046    Male  67.0             0              1          Yes   \n",
      "1  51676  Female  61.0             0              0          Yes   \n",
      "2  31112    Male  80.0             0              1          Yes   \n",
      "3  60182  Female  49.0             0              0          Yes   \n",
      "4   1665  Female  79.0             1              0          Yes   \n",
      "\n",
      "       work_type Residence_type  avg_glucose_level   bmi   smoking_status  \\\n",
      "0        Private          Urban             228.69  36.6  formerly smoked   \n",
      "1  Self-employed          Rural             202.21   NaN     never smoked   \n",
      "2        Private          Rural             105.92  32.5     never smoked   \n",
      "3        Private          Urban             171.23  34.4           smokes   \n",
      "4  Self-employed          Rural             174.12  24.0     never smoked   \n",
      "\n",
      "   stroke  \n",
      "0       1  \n",
      "1       1  \n",
      "2       1  \n",
      "3       1  \n",
      "4       1  \n"
     ]
    }
   ],
   "source": [
    "print(health_data.head())"
   ]
  },
  {
   "cell_type": "markdown",
   "metadata": {},
   "source": [
    "1.What is the total number of males and females in the dataset?"
   ]
  },
  {
   "cell_type": "code",
   "execution_count": 8,
   "metadata": {},
   "outputs": [
    {
     "name": "stdout",
     "output_type": "stream",
     "text": [
      "Total number of males: 2115\n",
      "Total number of female 2994\n"
     ]
    }
   ],
   "source": [
    "gender_total = health_data['gender'].value_counts()\n",
    "print(\"Total number of males:\" , gender_total.get('Male', 0))\n",
    "print(\"Total number of female\", gender_total.get('Female', 0))"
   ]
  },
  {
   "cell_type": "markdown",
   "metadata": {},
   "source": [
    "2.What is the average age of the participants?"
   ]
  },
  {
   "cell_type": "code",
   "execution_count": 9,
   "metadata": {},
   "outputs": [
    {
     "name": "stdout",
     "output_type": "stream",
     "text": [
      "The average age of the participant: 43.226614481409\n"
     ]
    }
   ],
   "source": [
    "average_age = health_data['age'].mean()\n",
    "print(\"The average age of the participant:\", average_age)"
   ]
  },
  {
   "cell_type": "markdown",
   "metadata": {},
   "source": [
    "3. How many people have hypertension?"
   ]
  },
  {
   "cell_type": "code",
   "execution_count": 10,
   "metadata": {},
   "outputs": [
    {
     "name": "stdout",
     "output_type": "stream",
     "text": [
      "The number of people with hypertension: 498\n"
     ]
    }
   ],
   "source": [
    "Hypertension_counts = health_data['hypertension'].sum()\n",
    "print(\"The number of people with hypertension:\", Hypertension_counts)"
   ]
  },
  {
   "cell_type": "markdown",
   "metadata": {},
   "source": [
    "4. How many people have heart disease?"
   ]
  },
  {
   "cell_type": "code",
   "execution_count": 11,
   "metadata": {},
   "outputs": [
    {
     "name": "stdout",
     "output_type": "stream",
     "text": [
      "The number of people with heart disease: 276\n"
     ]
    }
   ],
   "source": [
    "Heart_disease_counts = health_data['heart_disease'].sum()\n",
    "print(\"The number of people with heart disease:\", Heart_disease_counts)"
   ]
  },
  {
   "cell_type": "markdown",
   "metadata": {},
   "source": [
    "5.How many people are married?"
   ]
  },
  {
   "cell_type": "code",
   "execution_count": 12,
   "metadata": {},
   "outputs": [
    {
     "name": "stdout",
     "output_type": "stream",
     "text": [
      "The number of people with married: 3353\n"
     ]
    }
   ],
   "source": [
    "Married_Status = health_data['ever_married'].value_counts().get('Yes', 0)\n",
    "print(\"The number of people with married:\", Married_Status)"
   ]
  },
  {
   "cell_type": "markdown",
   "metadata": {},
   "source": [
    "6. What are the different types of work categories in the dataset?"
   ]
  },
  {
   "cell_type": "code",
   "execution_count": 13,
   "metadata": {},
   "outputs": [
    {
     "name": "stdout",
     "output_type": "stream",
     "text": [
      "Private\n",
      "Self-employed\n",
      "Govt_job\n",
      "children\n",
      "Never_worked\n"
     ]
    }
   ],
   "source": [
    "Work_categories = health_data['work_type'].unique()\n",
    "for category in Work_categories:\n",
    "    print(category)"
   ]
  },
  {
   "cell_type": "markdown",
   "metadata": {},
   "source": [
    "7.How many people live in urban areas versus rural areas?"
   ]
  },
  {
   "cell_type": "code",
   "execution_count": 14,
   "metadata": {},
   "outputs": [
    {
     "name": "stdout",
     "output_type": "stream",
     "text": [
      "Number of people living in each area:\n",
      "Urban: 2596\n",
      "Rural: 2514\n"
     ]
    }
   ],
   "source": [
    "area_counts = health_data['Residence_type'].value_counts()\n",
    "print(\"Number of people living in each area:\")\n",
    "print(\"Urban:\", area_counts.get('Urban', 0))\n",
    "print(\"Rural:\", area_counts.get('Rural', 0))"
   ]
  },
  {
   "cell_type": "markdown",
   "metadata": {},
   "source": [
    "8.What is the average glucose level of the participants?"
   ]
  },
  {
   "cell_type": "code",
   "execution_count": 15,
   "metadata": {},
   "outputs": [
    {
     "name": "stdout",
     "output_type": "stream",
     "text": [
      "The average of people glucose level: 106.1476771037182\n"
     ]
    }
   ],
   "source": [
    "average_glucose = health_data['avg_glucose_level'].mean()\n",
    "print(\"The average of people glucose level:\" , average_glucose)"
   ]
  },
  {
   "cell_type": "markdown",
   "metadata": {},
   "source": [
    "9.What is the average BMI of the participants?"
   ]
  },
  {
   "cell_type": "code",
   "execution_count": 16,
   "metadata": {},
   "outputs": [
    {
     "name": "stdout",
     "output_type": "stream",
     "text": [
      "The average of people Body Mass Index: 28.893236911794666\n"
     ]
    }
   ],
   "source": [
    "average_BMI = health_data['bmi'].mean()\n",
    "print(\"The average of people Body Mass Index:\", average_BMI)"
   ]
  },
  {
   "cell_type": "markdown",
   "metadata": {},
   "source": [
    "10.How many people are smokers, non-smokers, and former smokers?"
   ]
  },
  {
   "cell_type": "code",
   "execution_count": 22,
   "metadata": {},
   "outputs": [
    {
     "name": "stdout",
     "output_type": "stream",
     "text": [
      "The number of each people's smoking status:\n",
      "Smokes: 789\n",
      "non smoked: 1892\n",
      "formerly smoked: 885\n"
     ]
    }
   ],
   "source": [
    "Smoker_status = health_data['smoking_status'].value_counts()\n",
    "print(\"The number of each people's smoking status:\")\n",
    "print(\"Smokes:\", Smoker_status.get('smokes', 0))\n",
    "print(\"non smoked:\", Smoker_status.get('never smoked', 0))\n",
    "print(\"formerly smoked:\", Smoker_status.get('formerly smoked', 0))"
   ]
  },
  {
   "cell_type": "markdown",
   "metadata": {},
   "source": [
    "11.How many people have had a stroke?"
   ]
  },
  {
   "cell_type": "code",
   "execution_count": 24,
   "metadata": {},
   "outputs": [
    {
     "name": "stdout",
     "output_type": "stream",
     "text": [
      "People who have had troke: 249\n"
     ]
    }
   ],
   "source": [
    "stroke_status = health_data['stroke'].sum()\n",
    "print(\"People who have had troke:\", stroke_status)"
   ]
  },
  {
   "cell_type": "markdown",
   "metadata": {},
   "source": [
    "12. How many males have had a stroke?"
   ]
  },
  {
   "cell_type": "code",
   "execution_count": 29,
   "metadata": {},
   "outputs": [
    {
     "name": "stdout",
     "output_type": "stream",
     "text": [
      "The number of males who have had a stroke: 108\n"
     ]
    }
   ],
   "source": [
    "males_with_stroke = health_data[(health_data['gender'] == 'Male') & (health_data['stroke'] == 1)]\n",
    "count_males_with_stroke = males_with_stroke.shape[0]\n",
    "print(\"The number of males who have had a stroke:\", count_males_with_stroke)"
   ]
  },
  {
   "cell_type": "markdown",
   "metadata": {},
   "source": [
    "13.How many females have had a stroke"
   ]
  },
  {
   "cell_type": "code",
   "execution_count": 31,
   "metadata": {},
   "outputs": [
    {
     "name": "stdout",
     "output_type": "stream",
     "text": [
      "The number of females who have had a stroke: 141\n"
     ]
    }
   ],
   "source": [
    "females_with_stroke = health_data[(health_data['gender'] == 'Female') & (health_data['stroke'] == 1)]\n",
    "count_females_with_stroke = females_with_stroke.shape[0]\n",
    "print(\"The number of females who have had a stroke:\", count_females_with_stroke)"
   ]
  },
  {
   "cell_type": "markdown",
   "metadata": {},
   "source": [
    " 14. What is the average age of people who have had a stroke"
   ]
  },
  {
   "cell_type": "code",
   "execution_count": 32,
   "metadata": {},
   "outputs": [
    {
     "name": "stdout",
     "output_type": "stream",
     "text": [
      "The average age of people who have had a stroke: 67.72819277108434\n"
     ]
    }
   ],
   "source": [
    "stroke_case = health_data[health_data['stroke'] == 1]\n",
    "average_age_with_stroke = stroke_case['age'].mean()\n",
    "print(\"The average age of people who have had a stroke:\", average_age_with_stroke)"
   ]
  },
  {
   "cell_type": "markdown",
   "metadata": {},
   "source": [
    "15. What is the most common work type among people who have had a stroke?"
   ]
  },
  {
   "cell_type": "code",
   "execution_count": 33,
   "metadata": {},
   "outputs": [
    {
     "name": "stdout",
     "output_type": "stream",
     "text": [
      "The most common work type among people who have had a stroke: Private\n"
     ]
    }
   ],
   "source": [
    "stroke_case = health_data[health_data['stroke'] == 1]\n",
    "most_common_work_type = stroke_case['work_type'].value_counts().idxmax()\n",
    "print(\"The most common work type among people who have had a stroke:\", most_common_work_type)"
   ]
  },
  {
   "cell_type": "markdown",
   "metadata": {},
   "source": [
    " 16.What is the average glucose level of people who have had a stroke?"
   ]
  },
  {
   "cell_type": "code",
   "execution_count": 34,
   "metadata": {},
   "outputs": [
    {
     "name": "stdout",
     "output_type": "stream",
     "text": [
      "The average glucose level of people who have had a stroke: 132.54473895582328\n"
     ]
    }
   ],
   "source": [
    "stroke_case = health_data[health_data['stroke'] == 1]\n",
    "average_glucose_level= stroke_case['avg_glucose_level'].mean()\n",
    "print(\"The average glucose level of people who have had a stroke:\", average_glucose_level)"
   ]
  },
  {
   "cell_type": "markdown",
   "metadata": {},
   "source": [
    "17.What is the average BMI of people who have had a stroke?"
   ]
  },
  {
   "cell_type": "code",
   "execution_count": 35,
   "metadata": {},
   "outputs": [
    {
     "name": "stdout",
     "output_type": "stream",
     "text": [
      "The average BMI of people who have had a stroke: 30.471291866028707\n"
     ]
    }
   ],
   "source": [
    "stroke_case = health_data[health_data['stroke'] == 1]\n",
    "average_bmi_with_stroke= stroke_case['bmi'].mean()\n",
    "print(\"The average BMI of people who have had a stroke:\", average_bmi_with_stroke)"
   ]
  },
  {
   "cell_type": "markdown",
   "metadata": {},
   "source": [
    "18.How many people with hypertension have had a stroke"
   ]
  },
  {
   "cell_type": "code",
   "execution_count": 36,
   "metadata": {},
   "outputs": [
    {
     "name": "stdout",
     "output_type": "stream",
     "text": [
      "The number of people with hypertension who have had a stroke: 66\n"
     ]
    }
   ],
   "source": [
    "Hypertension_case = health_data[health_data['hypertension'] == 1]\n",
    "Hypertension_and_stroke_cases = Hypertension_case[Hypertension_case['stroke'] == 1]\n",
    "count_hypertention_with_stroke = Hypertension_and_stroke_cases.shape[0]\n",
    "print(\"The number of people with hypertension who have had a stroke:\" , count_hypertention_with_stroke)"
   ]
  },
  {
   "cell_type": "markdown",
   "metadata": {},
   "source": [
    "19. How many people with heart disease have had a stroke?"
   ]
  },
  {
   "cell_type": "code",
   "execution_count": 37,
   "metadata": {},
   "outputs": [
    {
     "name": "stdout",
     "output_type": "stream",
     "text": [
      "The number of people with heart diseases who have had a stroke: 47\n"
     ]
    }
   ],
   "source": [
    "Heart_case = health_data[health_data['heart_disease'] == 1]\n",
    "heart_disease_and_stroke_cases = Heart_case[Heart_case['stroke'] == 1]\n",
    "count_heart_disease_with_stroke = heart_disease_and_stroke_cases.shape[0]\n",
    "print(\"The number of people with heart diseases who have had a stroke:\" , count_heart_disease_with_stroke)"
   ]
  },
  {
   "cell_type": "markdown",
   "metadata": {},
   "source": [
    "20. What is the most common smoking status among people who have had a stroke?"
   ]
  },
  {
   "cell_type": "code",
   "execution_count": 38,
   "metadata": {},
   "outputs": [
    {
     "name": "stdout",
     "output_type": "stream",
     "text": [
      "The most common smoking status among people who have had a stroke: never smoked\n"
     ]
    }
   ],
   "source": [
    "stroke_case = health_data[health_data['stroke'] == 1]\n",
    "most_common_smoking_type = stroke_case['smoking_status'].value_counts().idxmax()\n",
    "print(\"The most common smoking status among people who have had a stroke:\", most_common_smoking_type)"
   ]
  }
 ],
 "metadata": {
  "kernelspec": {
   "display_name": "Python 3",
   "language": "python",
   "name": "python3"
  },
  "language_info": {
   "codemirror_mode": {
    "name": "ipython",
    "version": 3
   },
   "file_extension": ".py",
   "mimetype": "text/x-python",
   "name": "python",
   "nbconvert_exporter": "python",
   "pygments_lexer": "ipython3",
   "version": "3.12.3"
  }
 },
 "nbformat": 4,
 "nbformat_minor": 2
}
