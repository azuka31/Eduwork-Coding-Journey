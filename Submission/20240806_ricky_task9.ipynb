{
 "cells": [
  {
   "cell_type": "markdown",
   "id": "9ab3d0e6-7bc2-4042-986d-c92ebc96d7a0",
   "metadata": {},
   "source": [
    "# Import Preparations"
   ]
  },
  {
   "cell_type": "code",
   "execution_count": 8,
   "id": "9403a542-91f2-4114-ae68-4e99847b4673",
   "metadata": {},
   "outputs": [],
   "source": [
    "import pandas as pd\n",
    "import seaborn as sns\n",
    "import numpy as np\n",
    "import matplotlib.pyplot as plt"
   ]
  },
  {
   "cell_type": "code",
   "execution_count": 10,
   "id": "a41051be-2408-4ec3-98ba-f8c63351d325",
   "metadata": {},
   "outputs": [],
   "source": [
    "# Separator is a comma (,) dan kita pakai header=none agar pandas tidak otomatis ambil baris pertama sebagai header\n",
    "df_data_correlation = pd.read_csv('../data/data_correlation.csv', sep=',', header=None)"
   ]
  },
  {
   "cell_type": "code",
   "execution_count": 12,
   "id": "c4b74305-76cf-4e1d-beed-63c9531d2fee",
   "metadata": {},
   "outputs": [
    {
     "data": {
      "text/html": [
       "<div>\n",
       "<style scoped>\n",
       "    .dataframe tbody tr th:only-of-type {\n",
       "        vertical-align: middle;\n",
       "    }\n",
       "\n",
       "    .dataframe tbody tr th {\n",
       "        vertical-align: top;\n",
       "    }\n",
       "\n",
       "    .dataframe thead th {\n",
       "        text-align: right;\n",
       "    }\n",
       "</style>\n",
       "<table border=\"1\" class=\"dataframe\">\n",
       "  <thead>\n",
       "    <tr style=\"text-align: right;\">\n",
       "      <th></th>\n",
       "      <th>0</th>\n",
       "    </tr>\n",
       "  </thead>\n",
       "  <tbody>\n",
       "    <tr>\n",
       "      <th>0</th>\n",
       "      <td>1.00</td>\n",
       "    </tr>\n",
       "    <tr>\n",
       "      <th>1</th>\n",
       "      <td>0.20</td>\n",
       "    </tr>\n",
       "    <tr>\n",
       "      <th>2</th>\n",
       "      <td>2.00</td>\n",
       "    </tr>\n",
       "    <tr>\n",
       "      <th>3</th>\n",
       "      <td>0.30</td>\n",
       "    </tr>\n",
       "    <tr>\n",
       "      <th>4</th>\n",
       "      <td>3.00</td>\n",
       "    </tr>\n",
       "    <tr>\n",
       "      <th>5</th>\n",
       "      <td>0.50</td>\n",
       "    </tr>\n",
       "    <tr>\n",
       "      <th>6</th>\n",
       "      <td>4.00</td>\n",
       "    </tr>\n",
       "    <tr>\n",
       "      <th>7</th>\n",
       "      <td>0.40</td>\n",
       "    </tr>\n",
       "    <tr>\n",
       "      <th>8</th>\n",
       "      <td>5.00</td>\n",
       "    </tr>\n",
       "    <tr>\n",
       "      <th>9</th>\n",
       "      <td>0.70</td>\n",
       "    </tr>\n",
       "    <tr>\n",
       "      <th>10</th>\n",
       "      <td>6.00</td>\n",
       "    </tr>\n",
       "    <tr>\n",
       "      <th>11</th>\n",
       "      <td>0.80</td>\n",
       "    </tr>\n",
       "    <tr>\n",
       "      <th>12</th>\n",
       "      <td>7.00</td>\n",
       "    </tr>\n",
       "    <tr>\n",
       "      <th>13</th>\n",
       "      <td>0.10</td>\n",
       "    </tr>\n",
       "    <tr>\n",
       "      <th>14</th>\n",
       "      <td>8.00</td>\n",
       "    </tr>\n",
       "    <tr>\n",
       "      <th>15</th>\n",
       "      <td>0.90</td>\n",
       "    </tr>\n",
       "    <tr>\n",
       "      <th>16</th>\n",
       "      <td>9.00</td>\n",
       "    </tr>\n",
       "    <tr>\n",
       "      <th>17</th>\n",
       "      <td>0.11</td>\n",
       "    </tr>\n",
       "    <tr>\n",
       "      <th>18</th>\n",
       "      <td>10.00</td>\n",
       "    </tr>\n",
       "    <tr>\n",
       "      <th>19</th>\n",
       "      <td>0.13</td>\n",
       "    </tr>\n",
       "    <tr>\n",
       "      <th>20</th>\n",
       "      <td>11.00</td>\n",
       "    </tr>\n",
       "    <tr>\n",
       "      <th>21</th>\n",
       "      <td>0.14</td>\n",
       "    </tr>\n",
       "    <tr>\n",
       "      <th>22</th>\n",
       "      <td>12.00</td>\n",
       "    </tr>\n",
       "    <tr>\n",
       "      <th>23</th>\n",
       "      <td>0.15</td>\n",
       "    </tr>\n",
       "    <tr>\n",
       "      <th>24</th>\n",
       "      <td>13.00</td>\n",
       "    </tr>\n",
       "    <tr>\n",
       "      <th>25</th>\n",
       "      <td>0.16</td>\n",
       "    </tr>\n",
       "    <tr>\n",
       "      <th>26</th>\n",
       "      <td>14.00</td>\n",
       "    </tr>\n",
       "    <tr>\n",
       "      <th>27</th>\n",
       "      <td>0.18</td>\n",
       "    </tr>\n",
       "    <tr>\n",
       "      <th>28</th>\n",
       "      <td>15.00</td>\n",
       "    </tr>\n",
       "    <tr>\n",
       "      <th>29</th>\n",
       "      <td>0.19</td>\n",
       "    </tr>\n",
       "  </tbody>\n",
       "</table>\n",
       "</div>"
      ],
      "text/plain": [
       "        0\n",
       "0    1.00\n",
       "1    0.20\n",
       "2    2.00\n",
       "3    0.30\n",
       "4    3.00\n",
       "5    0.50\n",
       "6    4.00\n",
       "7    0.40\n",
       "8    5.00\n",
       "9    0.70\n",
       "10   6.00\n",
       "11   0.80\n",
       "12   7.00\n",
       "13   0.10\n",
       "14   8.00\n",
       "15   0.90\n",
       "16   9.00\n",
       "17   0.11\n",
       "18  10.00\n",
       "19   0.13\n",
       "20  11.00\n",
       "21   0.14\n",
       "22  12.00\n",
       "23   0.15\n",
       "24  13.00\n",
       "25   0.16\n",
       "26  14.00\n",
       "27   0.18\n",
       "28  15.00\n",
       "29   0.19"
      ]
     },
     "execution_count": 12,
     "metadata": {},
     "output_type": "execute_result"
    }
   ],
   "source": [
    "df_data_correlation"
   ]
  },
  {
   "cell_type": "markdown",
   "id": "73463945-9266-474c-860e-653ed0fdbad0",
   "metadata": {},
   "source": [
    "# Separating into Two Columns"
   ]
  },
  {
   "cell_type": "code",
   "execution_count": 14,
   "id": "a8d46316-8c3f-411b-a774-07d247a4ee81",
   "metadata": {},
   "outputs": [],
   "source": [
    "# Kita convert dataframe ke list menggunakan .tolist, df_data_correlation[0] disini 0 adalah header=none di atas\n",
    "values = df_data_correlation[0].tolist()"
   ]
  },
  {
   "cell_type": "code",
   "execution_count": 16,
   "id": "9ceb448e-74d8-4762-a1b2-37bb6be74efa",
   "metadata": {},
   "outputs": [
    {
     "name": "stdout",
     "output_type": "stream",
     "text": [
      "[1.0, 0.2, 2.0, 0.3, 3.0, 0.5, 4.0, 0.4, 5.0, 0.7, 6.0, 0.8, 7.0, 0.1, 8.0, 0.9, 9.0, 0.11, 10.0, 0.13, 11.0, 0.14, 12.0, 0.15, 13.0, 0.16, 14.0, 0.18, 15.0, 0.19]\n"
     ]
    }
   ],
   "source": [
    "print(values)"
   ]
  },
  {
   "cell_type": "code",
   "execution_count": 18,
   "id": "78dd75a9-9631-4413-9e45-ae6a75d767a3",
   "metadata": {},
   "outputs": [],
   "source": [
    "# kita bikin list kosong dulu utk memisahkan bilangan integer dan float\n",
    "integers = []\n",
    "floats = []\n",
    "\n",
    "# kita pisahkan di sini\n",
    "# kita loop pakai for i (index baris) dam value dari baris tersebut lalu menggunakan enumerate kita hitung list pada (values) utk kemudian\n",
    "# kita tambahkan ke masing-masing list kosong yang sudah dibuat (integers atau floats)\n",
    "# bagaimana cara memisahkan yang mana masuk list mananya terletak pada kondisi if nya\n",
    "for i, value in enumerate(values): #enumerate itu mengecek/menghitung angka yang sedang dilihat pada list (values) utk direturn\n",
    "    if i % 2 == 0:  # bila i atau index baris modulus 2 == 0 itu berarti index baris angka genap (0, 2, 6, 8 dst)\n",
    "        integers.append(value) # kalau index baris genap kita masukkan value pada index bersangkutan yang direturn ke dalam list integers pakai append\n",
    "    else:  # bila i atau index baris modulus 2 != 0 itu berarti index baris angka genap (1, 3, 5, 7 dst)\n",
    "        floats.append(value) # kalau index baris genap kita masukkan value pada index bersangkutan yang direturn ke dalam list floats pakai append\n",
    "\n",
    "# Gabungkan list integers dan list floats menjadi berpasangan\n",
    "combined_list = list(zip(integers, floats))"
   ]
  },
  {
   "cell_type": "code",
   "execution_count": 20,
   "id": "16ace81b-4960-4b54-a8a0-919d61a57002",
   "metadata": {},
   "outputs": [
    {
     "name": "stdout",
     "output_type": "stream",
     "text": [
      "0 1.0\n",
      "1 0.2\n",
      "2 2.0\n",
      "3 0.3\n",
      "4 3.0\n",
      "5 0.5\n",
      "6 4.0\n",
      "7 0.4\n",
      "8 5.0\n",
      "9 0.7\n",
      "10 6.0\n",
      "11 0.8\n",
      "12 7.0\n",
      "13 0.1\n",
      "14 8.0\n",
      "15 0.9\n",
      "16 9.0\n",
      "17 0.11\n",
      "18 10.0\n",
      "19 0.13\n",
      "20 11.0\n",
      "21 0.14\n",
      "22 12.0\n",
      "23 0.15\n",
      "24 13.0\n",
      "25 0.16\n",
      "26 14.0\n",
      "27 0.18\n",
      "28 15.0\n",
      "29 0.19\n"
     ]
    }
   ],
   "source": [
    "for i, value in enumerate(values):\n",
    "    print(i, value)"
   ]
  },
  {
   "cell_type": "code",
   "execution_count": 82,
   "id": "4c78428b-af3a-49a7-8978-d5258311329e",
   "metadata": {},
   "outputs": [],
   "source": [
    "# List yang sdh dicombine tinggal di panggil pakai data frame baru df_pairs lalu kita beri header columns supaya lebih presentable\n",
    "df_pairs = pd.DataFrame(combined_list, columns=['Integer', 'Float'])"
   ]
  },
  {
   "cell_type": "code",
   "execution_count": 84,
   "id": "32b4437b-f2da-4435-a975-8e0cebcb3214",
   "metadata": {},
   "outputs": [
    {
     "name": "stdout",
     "output_type": "stream",
     "text": [
      "    Integer  Float\n",
      "0       1.0   0.20\n",
      "1       2.0   0.30\n",
      "2       3.0   0.50\n",
      "3       4.0   0.40\n",
      "4       5.0   0.70\n",
      "5       6.0   0.80\n",
      "6       7.0   0.10\n",
      "7       8.0   0.90\n",
      "8       9.0   0.11\n",
      "9      10.0   0.13\n",
      "10     11.0   0.14\n",
      "11     12.0   0.15\n",
      "12     13.0   0.16\n",
      "13     14.0   0.18\n",
      "14     15.0   0.19\n"
     ]
    }
   ],
   "source": [
    "print(df_pairs)"
   ]
  }
 ],
 "metadata": {
  "kernelspec": {
   "display_name": "Python 3 (ipykernel)",
   "language": "python",
   "name": "python3"
  },
  "language_info": {
   "codemirror_mode": {
    "name": "ipython",
    "version": 3
   },
   "file_extension": ".py",
   "mimetype": "text/x-python",
   "name": "python",
   "nbconvert_exporter": "python",
   "pygments_lexer": "ipython3",
   "version": "3.11.9"
  }
 },
 "nbformat": 4,
 "nbformat_minor": 5
}
